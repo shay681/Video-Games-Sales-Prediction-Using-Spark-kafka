{
 "cells": [
  {
   "cell_type": "markdown",
   "metadata": {},
   "source": [
    "# Video Games Sales Prediction"
   ]
  },
  {
   "cell_type": "code",
   "execution_count": null,
   "metadata": {},
   "outputs": [],
   "source": [
    "!pip install xgboost==1.7.0\n",
    "!pip install pyarrow"
   ]
  },
  {
   "cell_type": "code",
   "execution_count": 48,
   "metadata": {
    "id": "m8YHb_hYlkFj"
   },
   "outputs": [],
   "source": [
    "import matplotlib.pyplot as plt\n",
    "import csv\n",
    "import random\n",
    "import numpy as np\n",
    "import pandas as pd\n",
    "from pyspark.sql.functions import *\n",
    "from pyspark.sql import *\n",
    "from pyspark.context import SparkContext"
   ]
  },
  {
   "cell_type": "code",
   "execution_count": 3,
   "metadata": {},
   "outputs": [],
   "source": [
    "from pyspark.ml.feature import StringIndexer\n",
    "from pyspark.ml.feature import OneHotEncoder\n",
    "from pyspark.ml.feature import VectorAssembler\n",
    "from pyspark.ml.regression import LinearRegression\n",
    "from pyspark.ml.evaluation import RegressionEvaluator\n",
    "from pyspark.ml.regression import DecisionTreeRegressor\n",
    "from pyspark.ml.regression import GBTRegressor\n",
    "from pyspark.ml.regression import RandomForestRegressor\n",
    "from xgboost.spark import SparkXGBRegressor"
   ]
  },
  {
   "cell_type": "code",
   "execution_count": null,
   "metadata": {},
   "outputs": [],
   "source": [
    "# sc=SparkContext(master=\"local[*]\")\n",
    "\n",
    "# spark = SparkSession \\\n",
    "#         .builder \\\n",
    "#         .appName(\"Python Spark SQL basic example\") \\\n",
    "#         .config(\"spark.some.config.option\", \"some-value\") \\\n",
    "#         .getOrCreate()"
   ]
  },
  {
   "cell_type": "markdown",
   "metadata": {},
   "source": [
    "# Spark ML"
   ]
  },
  {
   "cell_type": "code",
   "execution_count": 4,
   "metadata": {},
   "outputs": [],
   "source": [
    "df = spark.read.format(\"csv\").option(\"header\",\"true\").load('data/Video_Games_Sales.csv')"
   ]
  },
  {
   "cell_type": "markdown",
   "metadata": {},
   "source": [
    "## EDA"
   ]
  },
  {
   "cell_type": "code",
   "execution_count": 5,
   "metadata": {},
   "outputs": [
    {
     "name": "stdout",
     "output_type": "stream",
     "text": [
      "df shape: (16719, 16)\n"
     ]
    }
   ],
   "source": [
    "print(\"df shape:\", (df.count(), len(df.columns)))"
   ]
  },
  {
   "cell_type": "code",
   "execution_count": 6,
   "metadata": {},
   "outputs": [
    {
     "name": "stdout",
     "output_type": "stream",
     "text": [
      "root\n",
      " |-- Name: string (nullable = true)\n",
      " |-- Platform: string (nullable = true)\n",
      " |-- Year_of_Release: string (nullable = true)\n",
      " |-- Genre: string (nullable = true)\n",
      " |-- Publisher: string (nullable = true)\n",
      " |-- NA_Sales: string (nullable = true)\n",
      " |-- EU_Sales: string (nullable = true)\n",
      " |-- JP_Sales: string (nullable = true)\n",
      " |-- Other_Sales: string (nullable = true)\n",
      " |-- Global_Sales: string (nullable = true)\n",
      " |-- Critic_Score: string (nullable = true)\n",
      " |-- Critic_Count: string (nullable = true)\n",
      " |-- User_Score: string (nullable = true)\n",
      " |-- User_Count: string (nullable = true)\n",
      " |-- Developer: string (nullable = true)\n",
      " |-- Rating: string (nullable = true)\n",
      "\n"
     ]
    }
   ],
   "source": [
    "# Print the schema of df\n",
    "df.printSchema()"
   ]
  },
  {
   "cell_type": "markdown",
   "metadata": {},
   "source": [
    "some N/A's appear as strings, so we'll replace them with NULL"
   ]
  },
  {
   "cell_type": "code",
   "execution_count": 7,
   "metadata": {},
   "outputs": [],
   "source": [
    "df = df.select([when(col(c) == \"N/A\", \"\").otherwise(col(c)).alias(c) for c in df.columns])"
   ]
  },
  {
   "cell_type": "code",
   "execution_count": 8,
   "metadata": {},
   "outputs": [
    {
     "name": "stdout",
     "output_type": "stream",
     "text": [
      "+----+--------+---------------+-----+---------+--------+--------+--------+-----------+------------+------------+------------+----------+----------+---------+------+\n",
      "|Name|Platform|Year_of_Release|Genre|Publisher|NA_Sales|EU_Sales|JP_Sales|Other_Sales|Global_Sales|Critic_Score|Critic_Count|User_Score|User_Count|Developer|Rating|\n",
      "+----+--------+---------------+-----+---------+--------+--------+--------+-----------+------------+------------+------------+----------+----------+---------+------+\n",
      "|   2|       0|            269|    2|       54|       0|       0|       0|          0|           0|        8582|        8582|      9129|      9129|     6623|  6769|\n",
      "+----+--------+---------------+-----+---------+--------+--------+--------+-----------+------------+------------+------------+----------+----------+---------+------+\n",
      "\n"
     ]
    }
   ],
   "source": [
    "na_counts = df.select([sum(when(isnull(c) | isnan(c) | (col(c) == \"\"), 1).otherwise(0)).alias(c) for c in df.columns])\n",
    "na_counts.show()"
   ]
  },
  {
   "cell_type": "markdown",
   "metadata": {},
   "source": [
    "__Name__: this column has only 2 missing valus, we can easily drop them."
   ]
  },
  {
   "cell_type": "code",
   "execution_count": 9,
   "metadata": {},
   "outputs": [],
   "source": [
    "df = df.filter(df['Name'].isNotNull())"
   ]
  },
  {
   "cell_type": "markdown",
   "metadata": {},
   "source": [
    "__Year of relese__: is one of the core components for this reaserch. It cant be replaced with an average or even an everage span of years from the console activity years because most of the used platforms used to release games for more than 7 years. Plus, more than 40% are also missing critics scores. Missing values will be dropped."
   ]
  },
  {
   "cell_type": "code",
   "execution_count": 10,
   "metadata": {},
   "outputs": [
    {
     "name": "stdout",
     "output_type": "stream",
     "text": [
      "+--------+\n",
      "|Platform|\n",
      "+--------+\n",
      "|      PC|\n",
      "|     PS3|\n",
      "|      PS|\n",
      "|     PS2|\n",
      "|     3DS|\n",
      "|      GB|\n",
      "|     N64|\n",
      "|     PSP|\n",
      "|    2600|\n",
      "|    X360|\n",
      "|     GBA|\n",
      "|     Wii|\n",
      "|      GC|\n",
      "|     PSV|\n",
      "|      XB|\n",
      "|      DS|\n",
      "+--------+\n",
      "\n"
     ]
    }
   ],
   "source": [
    "platforms = df.filter(df['Year_of_Release'].isNull()).groupBy('Platform').agg({'Platform': 'count'}).select('Platform').distinct()\n",
    "platforms.show()"
   ]
  },
  {
   "cell_type": "code",
   "execution_count": 11,
   "metadata": {},
   "outputs": [],
   "source": [
    "df = df.filter(df['Year_of_Release'].isNotNull())"
   ]
  },
  {
   "cell_type": "markdown",
   "metadata": {},
   "source": [
    "Also 2020 has only one record with lots of missing data, it will be removed. Same for 2017."
   ]
  },
  {
   "cell_type": "code",
   "execution_count": 12,
   "metadata": {},
   "outputs": [],
   "source": [
    "df = df.filter(df['Year_of_Release'] != 2020)\n",
    "df = df.filter(df['Year_of_Release'] != 2017)"
   ]
  },
  {
   "cell_type": "markdown",
   "metadata": {},
   "source": [
    "__Ratings__: The American game rating system is called ESRB (Entertainment Software Rating Board). \n",
    "It provides information about what's in a game or app so parents and consumers can make informed choices about which games are right for their family. More information can be found on the official website HERE.\n",
    "\n",
    "Regarding the replacement of empty or missing values:\n",
    "* Since the rating system was created on 1994, we will replace empty values only after 1994. \n",
    "* NA values from before 1994 will be filled with rating E since it was for evetyone. \n",
    "* NA Values after 1994 will be left as N/A.\n",
    "* Scare values like Ao (Adults Only), RP (Rating Pending), K-A (Kids to Adults), EC (Early Childhood), and N/A (No Rating) will be replaced according to this mapping:\n",
    "\n",
    "| Rating | Map | Description |\n",
    "| ------ | ------ | ------ |\n",
    "| EC | E | Early childhood |\n",
    "| K-A | E | Kids to Adults, so basically everyone|\n",
    "| AO | M | Adults Only |\n",
    "| RP | E10+ | We checked the game rating online |\n",
    "| N/A | NR | No Rating |"
   ]
  },
  {
   "cell_type": "code",
   "execution_count": 13,
   "metadata": {},
   "outputs": [],
   "source": [
    "# replace scare values\n",
    "df = df.withColumn('Rating', when(df['Rating'].isin('EC', 'K-A'), 'E')\n",
    "                            .when(df['Rating'] == 'AO', 'M')\n",
    "                            .when(df['Rating'].isin('RP'), 'E10+')\n",
    "                            .when(df['Rating'].isNull(), 'NR')\n",
    "                            .otherwise(df['Rating']))"
   ]
  },
  {
   "cell_type": "code",
   "execution_count": 14,
   "metadata": {},
   "outputs": [],
   "source": [
    "df = df.withColumn('Rating', when(df['Rating'].isNull(), 'E').otherwise(df['Rating']))"
   ]
  },
  {
   "cell_type": "markdown",
   "metadata": {},
   "source": [
    "__Developer__: Since this column has sub-important information for our reaserch, has ~40% missing data and 1723 unique string values it will be dropped."
   ]
  },
  {
   "cell_type": "code",
   "execution_count": 15,
   "metadata": {},
   "outputs": [
    {
     "name": "stdout",
     "output_type": "stream",
     "text": [
      "23/03/05 11:14:10 WARN package: Truncated the string representation of a plan since it was too large. This behavior can be adjusted by setting 'spark.sql.debug.maxToStringFields'.\n",
      "Number of unique values in the 'Developer' column:  1723\n"
     ]
    }
   ],
   "source": [
    "nunique = df.agg(approx_count_distinct(df['Developer'])).collect()[0][0]\n",
    "print(\"Number of unique values in the 'Developer' column: \", nunique)"
   ]
  },
  {
   "cell_type": "code",
   "execution_count": 16,
   "metadata": {},
   "outputs": [
    {
     "name": "stdout",
     "output_type": "stream",
     "text": [
      "Precentage of missing data in the 'Developer' column:  39.76%\n"
     ]
    }
   ],
   "source": [
    "result = df.select([count(when(isnan(c) | col(c).isNull(), c)).alias(c) for c in [\"Developer\"]]).collect()[0][0] / df.count()\n",
    "print(\"Precentage of missing data in the 'Developer' column: \", '{:.2%}'.format(result))"
   ]
  },
  {
   "cell_type": "code",
   "execution_count": 17,
   "metadata": {},
   "outputs": [],
   "source": [
    "df = df.drop(\"Developer\")"
   ]
  },
  {
   "cell_type": "markdown",
   "metadata": {},
   "source": [
    "__Publisher__: Since it has only 2 missing values it wont be dropped. Also this column may prove importent as a publisher has big role in game sales. we'll replace the missing values with __'Small_Publisher'__. Small publisher defined as companies that revenued less than 0.5M$ over a year in average."
   ]
  },
  {
   "cell_type": "code",
   "execution_count": 18,
   "metadata": {},
   "outputs": [],
   "source": [
    "df = df.withColumn(\"Publisher\", when(col(\"Publisher\").isNull(), \"Small_Publisher\").otherwise(col(\"Publisher\")))"
   ]
  },
  {
   "cell_type": "markdown",
   "metadata": {},
   "source": [
    "__User_Count & Critic_Count__: Since this values report no critic, thus will be filled with 0."
   ]
  },
  {
   "cell_type": "code",
   "execution_count": 19,
   "metadata": {},
   "outputs": [],
   "source": [
    "df = df.withColumn(\"User_Count\", when(df[\"User_Count\"].isNull(), 0).otherwise(df[\"User_Count\"]))"
   ]
  },
  {
   "cell_type": "code",
   "execution_count": 20,
   "metadata": {},
   "outputs": [],
   "source": [
    "df = df.withColumn(\"Critic_Count\", when(df[\"Critic_Count\"].isNull(), 0).otherwise(df[\"Critic_Count\"]))"
   ]
  },
  {
   "cell_type": "markdown",
   "metadata": {},
   "source": [
    "__Critic_Score and User_Score__: This columns may be crucial in our reasecrh, thus filling this NA's is important and should be handled with care."
   ]
  },
  {
   "cell_type": "code",
   "execution_count": 21,
   "metadata": {},
   "outputs": [
    {
     "data": {
      "image/png": "[encoded data removed]",
      "text/plain": [
       "<Figure size 432x288 with 1 Axes>"
      ]
     },
     "metadata": {
      "needs_background": "light"
     },
     "output_type": "display_data"
    }
   ],
   "source": [
    "missing_scores = df.filter(col(\"Critic_Score\").isNull()).groupBy(\"Year_of_Release\").count()\n",
    "missing_scores = missing_scores.toPandas()\n",
    "missing_scores = missing_scores.set_index('Year_of_Release')\n",
    "missing_scores = missing_scores.sort_index()\n",
    "\n",
    "missing_scores.plot(kind='bar')\n",
    "plt.title('Missing Critic Scores Over the Years')\n",
    "plt.xlabel('Year')\n",
    "plt.ylabel('Number of Missing Critic Scores')\n",
    "plt.show()"
   ]
  },
  {
   "cell_type": "code",
   "execution_count": 22,
   "metadata": {},
   "outputs": [
    {
     "name": "stderr",
     "output_type": "stream",
     "text": [
      "                                                                                \r"
     ]
    },
    {
     "name": "stdout",
     "output_type": "stream",
     "text": [
      "+------------+-------+----------+-----+----+\n",
      "|Critic_Score|Critics|User_Score|Users|Year|\n",
      "+------------+-------+----------+-----+----+\n",
      "|         0.0|      0|       0.0|    0|1980|\n",
      "|         0.0|      0|       0.0|    0|1981|\n",
      "|         0.0|      0|       0.0|    0|1982|\n",
      "|         0.0|      0|       0.0|    0|1983|\n",
      "|         0.0|      0|       0.0|    0|1984|\n",
      "|        59.0|      1|       6.0|    1|1985|\n",
      "|         0.0|      0|       0.0|    0|1986|\n",
      "|         0.0|      0|       0.0|    0|1987|\n",
      "|        64.0|      1|       2.0|    1|1988|\n",
      "|         0.0|      0|       0.0|    0|1989|\n",
      "|         0.0|      0|       0.0|    0|1990|\n",
      "|         0.0|      0|       0.0|    0|1991|\n",
      "|        85.0|      1|       8.0|    1|1992|\n",
      "|         0.0|      0|       0.0|    0|1993|\n",
      "|        69.0|      1|       6.0|    1|1994|\n",
      "|         0.0|      0|       0.0|    0|1995|\n",
      "|        90.0|      8|       8.0|    8|1996|\n",
      "|        85.0|     17|       8.0|   18|1997|\n",
      "|        82.0|     28|       9.0|   31|1998|\n",
      "|        76.0|     39|       8.0|   31|1999|\n",
      "|        69.0|    143|       8.0|  107|2000|\n",
      "|        71.0|    326|       8.0|  257|2001|\n",
      "|        69.0|    627|       8.0|  464|2002|\n",
      "|        70.0|    585|       8.0|  516|2003|\n",
      "|        69.0|    561|       8.0|  489|2004|\n",
      "|        69.0|    655|       8.0|  583|2005|\n",
      "|        67.0|    620|       7.0|  552|2006|\n",
      "|        66.0|    692|       7.0|  629|2007|\n",
      "|        66.0|    715|       7.0|  661|2008|\n",
      "|        68.0|    651|       7.0|  614|2009|\n",
      "|        67.0|    500|       7.0|  467|2010|\n",
      "|        69.0|    500|       7.0|  501|2011|\n",
      "|        73.0|    321|       7.0|  339|2012|\n",
      "|        71.0|    273|       6.0|  304|2013|\n",
      "|        71.0|    261|       7.0|  329|2014|\n",
      "|        73.0|    225|       7.0|  297|2015|\n",
      "|        73.0|    232|       7.0|  262|2016|\n",
      "+------------+-------+----------+-----+----+\n",
      "\n"
     ]
    }
   ],
   "source": [
    "years = df.select(\"Year_of_Release\").distinct().rdd.flatMap(lambda x: x).collect()\n",
    "years.sort()\n",
    "\n",
    "average_score_map = []\n",
    "\n",
    "for year in years:\n",
    "    year = int(year)\n",
    "    year_df = df.filter(col(\"Year_of_Release\") == year)\n",
    "\n",
    "    mean_Critic_Score = year_df.select(round(mean(col(\"Critic_Score\")))).collect()[0][0] or 0.0\n",
    "    mean_User_Score = year_df.select(round(mean(col(\"User_Score\")))).collect()[0][0] or 0.0\n",
    "\n",
    "    average_score_map.append({\n",
    "        \"Year\": year,\n",
    "        \"Critic_Score\": mean_Critic_Score,\n",
    "        \"Critics\": year_df.filter(col(\"Critic_Score\").isNotNull()).count(),\n",
    "        \"User_Score\": mean_User_Score,\n",
    "        \"Users\": year_df.filter(col(\"User_Score\").isNotNull()).count()\n",
    "    })\n",
    "    \n",
    "rdd = spark.sparkContext.parallelize(average_score_map)\n",
    "\n",
    "# Convert the RDD to a DataFrame\n",
    "scores_df = rdd.toDF([\"Critic_Score\", \"Critics\", \"User_Score\", \"Users\", \"Year\"])\n",
    "scores_df.show(50)"
   ]
  },
  {
   "cell_type": "markdown",
   "metadata": {},
   "source": [
    "Up to 2000 scores have no meaning, because they are submitted by a too low percentage of the records and shouldn't have effect on the machines learning procces.\n",
    "From 2000 onward we will fill the NaN values with Yearly averge. in that way we fill the NaN and still bearly effect the yearly distribution of scores."
   ]
  },
  {
   "cell_type": "code",
   "execution_count": 23,
   "metadata": {},
   "outputs": [
    {
     "name": "stdout",
     "output_type": "stream",
     "text": [
      "+------------+-------+----------+-----+----+\n",
      "|Critic_Score|Critics|User_Score|Users|Year|\n",
      "+------------+-------+----------+-----+----+\n",
      "|        71.0|    326|       8.0|  257|2001|\n",
      "|        69.0|    627|       8.0|  464|2002|\n",
      "|        70.0|    585|       8.0|  516|2003|\n",
      "|        69.0|    561|       8.0|  489|2004|\n",
      "|        69.0|    655|       8.0|  583|2005|\n",
      "|        67.0|    620|       7.0|  552|2006|\n",
      "|        66.0|    692|       7.0|  629|2007|\n",
      "|        66.0|    715|       7.0|  661|2008|\n",
      "|        68.0|    651|       7.0|  614|2009|\n",
      "|        67.0|    500|       7.0|  467|2010|\n",
      "|        69.0|    500|       7.0|  501|2011|\n",
      "|        73.0|    321|       7.0|  339|2012|\n",
      "|        71.0|    273|       6.0|  304|2013|\n",
      "|        71.0|    261|       7.0|  329|2014|\n",
      "|        73.0|    225|       7.0|  297|2015|\n",
      "|        73.0|    232|       7.0|  262|2016|\n",
      "+------------+-------+----------+-----+----+\n",
      "\n"
     ]
    }
   ],
   "source": [
    "result_df = scores_df.filter(col(\"Year\") > 2000).show()"
   ]
  },
  {
   "cell_type": "code",
   "execution_count": 24,
   "metadata": {},
   "outputs": [],
   "source": [
    "# Replace values when Year_of_Release is less than 2000\n",
    "df = df.withColumn(\"Critic_Score\", when(df[\"Year_of_Release\"] < 2000, 0).otherwise(df[\"Critic_Score\"]))\n",
    "df = df.withColumn(\"Critic_Count\", when(df[\"Year_of_Release\"] < 2000, 0).otherwise(df[\"Critic_Count\"]))\n",
    "df = df.withColumn(\"User_Score\", when(df[\"Year_of_Release\"] < 2000, 0).otherwise(df[\"User_Score\"]))\n",
    "df = df.withColumn(\"User_Count\", when(df[\"Year_of_Release\"] < 2000, 0).otherwise(df[\"User_Count\"]))\n",
    "\n",
    "# Replace missing values\n",
    "critic_score_mean = scores_df.filter(col(\"Year\") > 2000).agg({\"Critic_Score\": \"mean\"}).collect()[0][0]\n",
    "user_score_mean = scores_df.filter(col(\"Year\") > 2000).agg({\"User_Score\": \"mean\"}).collect()[0][0]\n",
    "df = df.withColumn(\"Critic_Score\", when(df[\"Critic_Score\"].isNull(), critic_score_mean).otherwise(df[\"Critic_Score\"]))\n",
    "df = df.withColumn(\"Critic_Count\", when(df[\"Critic_Count\"].isNull(), 0).otherwise(df[\"Critic_Count\"]))\n",
    "df = df.withColumn(\"User_Score\", when(df[\"User_Score\"].isNull(), user_score_mean).otherwise(df[\"User_Score\"]))\n",
    "df = df.withColumn(\"User_Count\", when(df[\"User_Count\"].isNull(), 0).otherwise(df[\"User_Count\"]))"
   ]
  },
  {
   "cell_type": "code",
   "execution_count": 25,
   "metadata": {},
   "outputs": [
    {
     "name": "stdout",
     "output_type": "stream",
     "text": [
      "+----+--------+---------------+-----+---------+--------+--------+--------+-----------+------------+------------+------------+----------+----------+------+\n",
      "|Name|Platform|Year_of_Release|Genre|Publisher|NA_Sales|EU_Sales|JP_Sales|Other_Sales|Global_Sales|Critic_Score|Critic_Count|User_Score|User_Count|Rating|\n",
      "+----+--------+---------------+-----+---------+--------+--------+--------+-----------+------------+------------+------------+----------+----------+------+\n",
      "|   0|       0|              0|    0|        0|       0|       0|       0|          0|           0|           0|           0|         0|         0|     0|\n",
      "+----+--------+---------------+-----+---------+--------+--------+--------+-----------+------------+------------+------------+----------+----------+------+\n",
      "\n"
     ]
    }
   ],
   "source": [
    "na_counts = df.select([sum(when(isnull(c) | isnan(c) | (col(c) == \"\"), 1).otherwise(0)).alias(c) for c in df.columns])\n",
    "na_counts.show()"
   ]
  },
  {
   "cell_type": "code",
   "execution_count": 26,
   "metadata": {},
   "outputs": [],
   "source": [
    "# custom function to convert the data type of DataFrame columns\n",
    "def convertColumn(df, names, newType):\n",
    "  for name in names: \n",
    "     df = df.withColumn(name, df[name].cast(newType))\n",
    "  return df \n",
    "\n",
    "columns = ['Year_of_Release', 'NA_Sales', 'EU_Sales', 'JP_Sales', 'Other_Sales', 'Global_Sales', 'Critic_Score', 'Critic_Count', 'User_Score', 'User_Count']\n",
    "\n",
    "# Conver the df columns to int/float\n",
    "df = convertColumn(df, columns, \"float\")"
   ]
  },
  {
   "cell_type": "code",
   "execution_count": 27,
   "metadata": {},
   "outputs": [
    {
     "name": "stdout",
     "output_type": "stream",
     "text": [
      "root\n",
      " |-- Name: string (nullable = true)\n",
      " |-- Platform: string (nullable = true)\n",
      " |-- Year_of_Release: float (nullable = true)\n",
      " |-- Genre: string (nullable = true)\n",
      " |-- Publisher: string (nullable = true)\n",
      " |-- NA_Sales: float (nullable = true)\n",
      " |-- EU_Sales: float (nullable = true)\n",
      " |-- JP_Sales: float (nullable = true)\n",
      " |-- Other_Sales: float (nullable = true)\n",
      " |-- Global_Sales: float (nullable = true)\n",
      " |-- Critic_Score: float (nullable = true)\n",
      " |-- Critic_Count: float (nullable = true)\n",
      " |-- User_Score: float (nullable = true)\n",
      " |-- User_Count: float (nullable = true)\n",
      " |-- Rating: string (nullable = true)\n",
      "\n"
     ]
    }
   ],
   "source": [
    "# Print the schema of df\n",
    "df.printSchema()"
   ]
  },
  {
   "cell_type": "code",
   "execution_count": 28,
   "metadata": {},
   "outputs": [],
   "source": [
    "def save_csv(temp_path, target_path, df):\n",
    "    df.coalesce(1).write.mode(\"overwrite\").option(\"header\", \"true\").csv(temp_path)\n",
    "    Path = sc._gateway.jvm.org.apache.hadoop.fs.Path\n",
    "\n",
    "    # get the part file generated by spark write\n",
    "    fs = Path(temp_path).getFileSystem(sc._jsc.hadoopConfiguration())\n",
    "    csv_part_file = fs.globStatus(Path(temp_path + \"/part*\"))[0].getPath()\n",
    "\n",
    "    # move and rename the file\n",
    "    fs.rename(csv_part_file, Path(target_path))\n",
    "    fs.delete(Path(temp_path), True)"
   ]
  },
  {
   "cell_type": "code",
   "execution_count": 29,
   "metadata": {},
   "outputs": [],
   "source": [
    "temp_path = \"data/__temp\"\n",
    "target_path = \"data/Video_Games_Sales_Fixed.csv\"\n",
    "\n",
    "save_csv(temp_path, target_path, df)"
   ]
  },
  {
   "cell_type": "markdown",
   "metadata": {},
   "source": [
    "## Models"
   ]
  },
  {
   "cell_type": "code",
   "execution_count": 30,
   "metadata": {},
   "outputs": [],
   "source": [
    "def get_train_test_data(df, year):\n",
    "    train_df = df.filter(df['Year_of_Release'] < year)\n",
    "    test_df = df.filter(df['Year_of_Release'] == year)\n",
    "    return train_df, test_df"
   ]
  },
  {
   "cell_type": "code",
   "execution_count": 31,
   "metadata": {},
   "outputs": [],
   "source": [
    "def df_preProcess(fixed_df): \n",
    "    # Models Pre-Process\n",
    "    # ----------------\n",
    "\n",
    "    # String Indexer\n",
    "    indexer = StringIndexer(inputCols=['Platform', 'Genre', 'Publisher', 'Critic_Score', 'Critic_Count', 'User_Score', 'User_Count', 'Rating'], \n",
    "                                    outputCols=['Platform_numeric', 'Genre_numeric', 'Publisher_numeric', 'Critic_Score_numeric',\n",
    "                                                'Critic_Count_numeric', 'User_Score_numeric', 'User_Count_numeric', 'Rating_numeric'])\n",
    "    indexer_fitted = indexer.fit(fixed_df)\n",
    "    df_indexed = indexer_fitted.transform(fixed_df)\n",
    "\n",
    "    # OneHotEncoder\n",
    "    encoder = OneHotEncoder(inputCols=['Platform_numeric', 'Genre_numeric', 'Publisher_numeric', 'Critic_Score_numeric',\n",
    "                                               'Critic_Count_numeric', 'User_Score_numeric', 'User_Count_numeric', 'Rating_numeric'], \n",
    "                                   outputCols=['Platform_Vec', 'Genre_Vec', 'Publisher_Vec', 'Critic_Score_Vec',\n",
    "                                               'Critic_Count_Vec', 'User_Score_Vec', 'User_Count_Vec', 'Rating_Vec'])\n",
    "    model = encoder.fit(df_indexed)\n",
    "    encoded = model.transform(df_indexed)\n",
    "\n",
    "    # VectorAssembler\n",
    "    vectorAssembler = VectorAssembler(inputCols = ['Platform_Vec', 'Genre_Vec', 'Publisher_Vec', 'Critic_Score_Vec',\n",
    "                                               'Critic_Count_Vec', 'User_Score_Vec', 'User_Count_Vec', 'Rating_Vec'], \n",
    "                                  outputCol = 'features')\n",
    "    v_df = vectorAssembler.transform(encoded)\n",
    "    v_df = v_df.select(['Name', 'Year_of_Release', 'features', 'Global_Sales'])\n",
    "    \n",
    "    return v_df"
   ]
  },
  {
   "cell_type": "code",
   "execution_count": 60,
   "metadata": {},
   "outputs": [],
   "source": [
    "def run_model(df, year):\n",
    "    models_results = []\n",
    " \n",
    "    # Train Test split  \n",
    "    train_df, test_df = get_train_test_data(df, year)\n",
    "\n",
    "    # Running Models\n",
    "    # ---------------\n",
    "\n",
    "    # Linear Regression\n",
    "    lr = LinearRegression(featuresCol='features', labelCol='Global_Sales')\n",
    "    lr_model = lr.fit(train_df)\n",
    "    lr_predictions = lr_model.transform(test_df)\n",
    "    lr_prediction_rows = lr_predictions.select(\"prediction\").collect()\n",
    "    lr_prediction_list = []\n",
    "    for row in lr_prediction_rows:\n",
    "        lr_prediction_list.append(row.asDict()['prediction'])\n",
    "    lr_evaluator = RegressionEvaluator(predictionCol=\"prediction\", labelCol=\"Global_Sales\", metricName=\"rmse\")\n",
    "    rmse = lr_evaluator.evaluate(lr_predictions)\n",
    "        \n",
    "    # update models_results data\n",
    "    models_results.append({\n",
    "        \"model\": 'LinearRegression',\n",
    "        \"year\": year,\n",
    "        \"rmse\": float(rmse),\n",
    "        \"predictions\": lr_prediction_list\n",
    "    })\n",
    "    \n",
    "    # Ridge Regression\n",
    "    ridge = LinearRegression(featuresCol='features', labelCol='Global_Sales', regParam=0.2, elasticNetParam=0)\n",
    "    ridge_model = ridge.fit(train_df)\n",
    "    ridge_predictions = ridge_model.transform(test_df)\n",
    "    ridge_prediction_rows = ridge_predictions.select(\"prediction\").collect()\n",
    "    ridge_prediction_list = []\n",
    "    for row in ridge_prediction_rows:\n",
    "        ridge_prediction_list.append(row.asDict()['prediction'])\n",
    "    ridge_evaluator = RegressionEvaluator(predictionCol=\"prediction\", labelCol=\"Global_Sales\", metricName=\"rmse\")\n",
    "    rmse = ridge_evaluator.evaluate(ridge_predictions)\n",
    "        \n",
    "    # update models_results data\n",
    "    models_results.append({\n",
    "        \"model\": 'RidgeRegression',\n",
    "        \"year\": year,\n",
    "        \"rmse\": float(rmse),\n",
    "        \"predictions\": ridge_prediction_list\n",
    "    })\n",
    "    \n",
    "    # Lasso Regression\n",
    "    lasso = LinearRegression(featuresCol='features', labelCol='Global_Sales', regParam=0.2, elasticNetParam=1)\n",
    "    lasso_model = lasso.fit(train_df)\n",
    "    lasso_predictions = lasso_model.transform(test_df)\n",
    "    lasso_prediction_rows = lasso_predictions.select(\"prediction\").collect()\n",
    "    lasso_prediction_list = []\n",
    "    for row in lasso_prediction_rows:\n",
    "        lasso_prediction_list.append(row.asDict()['prediction'])\n",
    "    lasso_evaluator = RegressionEvaluator(predictionCol=\"prediction\", labelCol=\"Global_Sales\", metricName=\"rmse\")\n",
    "    rmse = lasso_evaluator.evaluate(lasso_predictions)\n",
    "        \n",
    "    # update models_results data\n",
    "    models_results.append({\n",
    "        \"model\": 'LassoRegression',\n",
    "        \"year\": year,\n",
    "        \"rmse\": float(rmse),\n",
    "        \"predictions\": lasso_prediction_list\n",
    "    })\n",
    "    \n",
    "    # Decision Tree Regression\n",
    "    dt = DecisionTreeRegressor(featuresCol ='features', labelCol = 'Global_Sales')\n",
    "    dt_model = dt.fit(train_df)\n",
    "    dt_predictions = dt_model.transform(test_df)\n",
    "    dt_prediction_rows = dt_predictions.select(\"prediction\").collect()\n",
    "    dt_prediction_list = []\n",
    "    for row in dt_prediction_rows:\n",
    "        dt_prediction_list.append(row.asDict()['prediction'])\n",
    "    dt_evaluator = RegressionEvaluator(labelCol=\"Global_Sales\", predictionCol=\"prediction\", metricName=\"rmse\")\n",
    "    rmse = dt_evaluator.evaluate(dt_predictions)\n",
    "\n",
    "    # update models_results data\n",
    "    models_results.append({\n",
    "        \"model\": 'DecisionTreeRegressor',\n",
    "        \"year\": year,\n",
    "        \"rmse\": float(rmse),\n",
    "        \"predictions\": dt_prediction_list\n",
    "    })\n",
    "\n",
    "    # Gradient-boosted tree regression\n",
    "    gbt = GBTRegressor(featuresCol = 'features', labelCol = 'Global_Sales', maxIter=10)\n",
    "    gbt_model = gbt.fit(train_df)\n",
    "    gbt_predictions = gbt_model.transform(test_df)\n",
    "    gbt_prediction_rows = gbt_predictions.select(\"prediction\").collect()\n",
    "    gbt_prediction_list = []\n",
    "    for row in gbt_prediction_rows:\n",
    "        gbt_prediction_list.append(row.asDict()['prediction'])\n",
    "    gbt_evaluator = RegressionEvaluator(labelCol=\"Global_Sales\", predictionCol=\"prediction\", metricName=\"rmse\")\n",
    "    rmse = gbt_evaluator.evaluate(gbt_predictions)\n",
    "\n",
    "    # update models_results data\n",
    "    models_results.append({\n",
    "        \"model\": 'GBTRegressor',\n",
    "        \"year\": year,\n",
    "        \"rmse\": float(rmse),\n",
    "        \"predictions\": gbt_prediction_list\n",
    "    })\n",
    "    \n",
    "    # Random Forest regression\n",
    "    rf = RandomForestRegressor(featuresCol=\"features\", labelCol=\"Global_Sales\", numTrees=10, maxDepth=5)\n",
    "    rf_model = rf.fit(train_df)\n",
    "    rf_predictions = rf_model.transform(test_df)\n",
    "    rf_prediction_rows = rf_predictions.select(\"prediction\").collect()\n",
    "    rf_prediction_list = []\n",
    "    for row in rf_prediction_rows:\n",
    "        rf_prediction_list.append(row.asDict()['prediction'])\n",
    "    rf_evaluator = RegressionEvaluator(labelCol=\"Global_Sales\", predictionCol=\"prediction\", metricName=\"rmse\")\n",
    "    rmse = rf_evaluator.evaluate(rf_predictions)\n",
    "\n",
    "    # update models_results data\n",
    "    models_results.append({\n",
    "        \"model\": 'RandomForestRegressor',\n",
    "        \"year\": year,\n",
    "        \"rmse\": float(rmse),\n",
    "        \"predictions\": rf_prediction_list\n",
    "    })\n",
    "\n",
    "    # XGBoost regression\n",
    "    xgb_regressor = SparkXGBRegressor(features_col=\"features\", label_col=\"Global_Sales\")\n",
    "    xgb_model = xgb_regressor.fit(train_df)\n",
    "    xgb_predictions = xgb_model.transform(test_df)\n",
    "    xgb_predictions_rows = xgb_predictions.select(\"prediction\").collect()\n",
    "    xgb_prediction_list = []\n",
    "    for row in xgb_predictions_rows:\n",
    "        xgb_prediction_list.append(row.asDict()['prediction'])\n",
    "    xgb_evaluator = RegressionEvaluator(labelCol=\"Global_Sales\", predictionCol=\"prediction\", metricName=\"rmse\")\n",
    "    rmse = xgb_evaluator.evaluate(xgb_predictions)\n",
    "    \n",
    "    # update model data\n",
    "    models_results.append({\n",
    "        \"model\": 'SparkXGBRegressor',\n",
    "        \"year\": year,\n",
    "        \"rmse\": float(rmse),\n",
    "        \"predictions\": xgb_prediction_list\n",
    "    })\n",
    "    \n",
    "    # create a DataFrame from the RDD\n",
    "    model_df = spark.createDataFrame(models_results)    \n",
    "    model_df = model_df.withColumn(\"predictions_str\", concat_ws(\",\", col(\"predictions\")))\n",
    "    model_df = model_df.drop(\"predictions\")\n",
    "    \n",
    "    # write the DataFrame to a CSV file\n",
    "    temp_path = \"results/__temp\"\n",
    "    file_name = f'results/{year}.csv'\n",
    "\n",
    "    save_csv(temp_path, file_name, model_df)"
   ]
  },
  {
   "cell_type": "markdown",
   "metadata": {},
   "source": [
    "# Kafka"
   ]
  },
  {
   "cell_type": "code",
   "execution_count": 33,
   "metadata": {},
   "outputs": [],
   "source": [
    "from confluent_kafka import Producer, Consumer, KafkaError\n",
    "import json"
   ]
  },
  {
   "cell_type": "markdown",
   "metadata": {},
   "source": [
    "## Create Topics"
   ]
  },
  {
   "cell_type": "code",
   "execution_count": 35,
   "metadata": {},
   "outputs": [
    {
     "name": "stdout",
     "output_type": "stream",
     "text": [
      "Created topic salesHistory.\r\n"
     ]
    }
   ],
   "source": [
    "!/usr/local/kafka/kafka_2.13-3.2.1/bin/kafka-topics.sh --create --bootstrap-server localhost:9092 --replication-factor 1 --partitions 1 --topic salesHistory"
   ]
  },
  {
   "cell_type": "code",
   "execution_count": 36,
   "metadata": {},
   "outputs": [
    {
     "name": "stdout",
     "output_type": "stream",
     "text": [
      "Created topic predictions.\r\n"
     ]
    }
   ],
   "source": [
    "!/usr/local/kafka/kafka_2.13-3.2.1/bin/kafka-topics.sh --create --bootstrap-server localhost:9092 --replication-factor 1 --partitions 1 --topic predictions"
   ]
  },
  {
   "cell_type": "markdown",
   "metadata": {},
   "source": [
    "## Sales History Data"
   ]
  },
  {
   "cell_type": "code",
   "execution_count": 37,
   "metadata": {},
   "outputs": [],
   "source": [
    "# read sales history data\n",
    "with open('data/Video_Games_Sales_Fixed.csv', 'r') as f:\n",
    "    # Read the lines of the file\n",
    "    lines = f.readlines()\n",
    "\n",
    "    sales_history_data = {}\n",
    "    counter = 0\n",
    "\n",
    "    # Iterate over the lines\n",
    "    for line in lines:\n",
    "        # save each line in a dict\n",
    "        sales_history_data[counter] = line.replace(\"\\n\",\"\")\n",
    "        counter += 1"
   ]
  },
  {
   "cell_type": "code",
   "execution_count": 38,
   "metadata": {},
   "outputs": [],
   "source": [
    "# convert sales_history_data from dict to pyspark df\n",
    "def dict_to_df(data):    \n",
    "    # split the values of the dictionary into a list of strings\n",
    "    rows = list(data.values())\n",
    "\n",
    "    # split the header string into a list of column names\n",
    "    header = rows[0].split(',')\n",
    "\n",
    "    # limit the number of columns to 15\n",
    "    header = header[:15]\n",
    "    rows = [row.split(',')[:15] for row in rows[1:]]\n",
    "\n",
    "    # create a PySpark DF by passing list of tuples, where each tuple contains the column values for a given row\n",
    "    df_Fixed = spark.createDataFrame(rows, header)\n",
    "    \n",
    "    return df_Fixed"
   ]
  },
  {
   "cell_type": "markdown",
   "metadata": {},
   "source": [
    "## Save the data into a topic"
   ]
  },
  {
   "cell_type": "code",
   "execution_count": 39,
   "metadata": {},
   "outputs": [],
   "source": [
    "# Define the Kafka producer configuration\n",
    "producer_conf = {\n",
    "        'bootstrap.servers': 'localhost:9092',\n",
    "        'client.id': 'python-producer'\n",
    "    }"
   ]
  },
  {
   "cell_type": "code",
   "execution_count": 40,
   "metadata": {},
   "outputs": [],
   "source": [
    "def save_data(topic, data):\n",
    "    # Create the Kafka producer instance\n",
    "    producer = Producer(producer_conf)\n",
    "\n",
    "    # Serialize the dictionary to a JSON string\n",
    "    json_message = json.dumps(data)\n",
    "\n",
    "    # Split the JSON string into smaller chunks\n",
    "    chunk_size = 100\n",
    "    for i in range(0, len(json_message), chunk_size):\n",
    "        chunk = json_message[i:i + chunk_size]\n",
    "        producer.produce(topic, key='chunk-{}'.format(i), value=chunk)\n",
    "\n",
    "    producer.produce(topic, key='END', value='END')\n",
    "\n",
    "    # Wait for any outstanding messages to be delivered and delivery report callbacks to be received\n",
    "    producer.flush()"
   ]
  },
  {
   "cell_type": "code",
   "execution_count": 41,
   "metadata": {},
   "outputs": [],
   "source": [
    "save_data('salesHistory', sales_history_data)"
   ]
  },
  {
   "cell_type": "markdown",
   "metadata": {},
   "source": [
    "## Consumer"
   ]
  },
  {
   "cell_type": "code",
   "execution_count": 42,
   "metadata": {},
   "outputs": [],
   "source": [
    "def consume_data(topic, consumer):\n",
    "    # Subscribe to the topic\n",
    "    consumer.subscribe([topic])\n",
    "\n",
    "    # Initialize a variable to store the reassembled message\n",
    "    reassembled_message = ''\n",
    "\n",
    "    # Poll for messages\n",
    "    while True:\n",
    "        msg = consumer.poll(1.0)\n",
    "\n",
    "        if msg is None: continue\n",
    "            \n",
    "        if msg.error():\n",
    "            if msg.error().code() == KafkaError.PARTITION_EOF:\n",
    "                print('Reached end of partition event for {} [{}] at offset {}'.format(\n",
    "                    msg.topic(), msg.partition(), msg.offset()))\n",
    "            else:\n",
    "                print('Error while polling for messages: {}'.format(msg.error()))\n",
    "            \n",
    "        else:\n",
    "            if (msg.value().decode('utf-8')) == 'END':\n",
    "                break\n",
    "            reassembled_message += msg.value().decode('utf-8')\n",
    "\n",
    "    # Deserialize the reassembled message from JSON to a dictionary\n",
    "    deserialized_message = json.loads(reassembled_message)\n",
    "    # cast the dict keys into int\n",
    "    sales_history_data_consumed = {int(key): value for key, value in deserialized_message.items()}\n",
    "\n",
    "    # return the deserialized dictionary\n",
    "    return sales_history_data_consumed"
   ]
  },
  {
   "cell_type": "markdown",
   "metadata": {},
   "source": [
    "## Predictions"
   ]
  },
  {
   "cell_type": "code",
   "execution_count": 43,
   "metadata": {},
   "outputs": [],
   "source": [
    "# consume sales history and produce prediction\n",
    "def main_func(consumer, producer, topics, year):\n",
    "    sales_history_data = consume_data(topics[0], consumer)\n",
    "    \n",
    "    # convert sales_history_data to pyspark df\n",
    "    sales_history_df = dict_to_df(sales_history_data)\n",
    "    \n",
    "    # get the best prediction model\n",
    "    v_df = df_preProcess(sales_history_df)\n",
    "    v_df = convertColumn(v_df, ['Global_Sales'], \"float\")\n",
    "    run_model(v_df, year)\n",
    "    df_model = spark.read.format(\"csv\").option(\"header\",\"true\").load(f'results/{year}.csv')\n",
    "    \n",
    "    # send to predictions topic\n",
    "    for row in df_model.toJSON().collect():\n",
    "        producer.produce(topic=topics[1], key=None, value=row)\n",
    "    \n",
    "    producer.flush()"
   ]
  },
  {
   "cell_type": "code",
   "execution_count": 61,
   "metadata": {},
   "outputs": [
    {
     "name": "stdout",
     "output_type": "stream",
     "text": [
      "Super Mario Land,GB,1989.0,Platform,Nintendo,10.83,2.71,4.18,0.42,18.14,0.0,0.0,0.0,0.0,NR\n",
      "PASS 1\n",
      "PASS 2\n",
      "23/03/05 12:10:57 WARN Instrumentation: [e80558cd] regParam is zero, which might cause numerical instability and overfitting.\n",
      "23/03/05 12:10:57 WARN Instrumentation: [e80558cd] Cholesky solver failed due to singular covariance matrix. Retrying with Quasi-Newton solver.\n"
     ]
    },
    {
     "name": "stderr",
     "output_type": "stream",
     "text": [
      "[12:11:23] task 0 got new rank 0                                    (0 + 1) / 1]\n",
      "                                                                                \r"
     ]
    },
    {
     "name": "stdout",
     "output_type": "stream",
     "text": [
      "PASS 3\n",
      "PASS 4\n"
     ]
    }
   ],
   "source": [
    "random_id = random.randint(1, 10000)\n",
    "\n",
    "# Define the Kafka consumer configuration\n",
    "consumer_conf = {\n",
    "    'bootstrap.servers': 'localhost:9092',\n",
    "    'group.id': f'my_group{random_id}',\n",
    "    'auto.offset.reset': 'earliest'\n",
    "}\n",
    "\n",
    "# Define the Kafka producer configuration\n",
    "producer_conf = {\n",
    "        'bootstrap.servers': 'localhost:9092',\n",
    "        'client.id': 'python_producer'\n",
    "}\n",
    "\n",
    "# create the Kafka producer instance\n",
    "p1 = Producer(producer_conf)\n",
    "\n",
    "# create the Kafka consumer instance\n",
    "c1 = Consumer(consumer_conf)\n",
    "\n",
    "# choose prediction year\n",
    "year = 2016\n",
    "\n",
    "# run the consume loop function\n",
    "main_func(c1, p1, ['salesHistory', 'predictions'], year)"
   ]
  }
 ],
 "metadata": {
  "colab": {
   "collapsed_sections": [],
   "provenance": []
  },
  "kernelspec": {
   "display_name": "Python 3 (ipykernel)",
   "language": "python",
   "name": "python3"
  },
  "language_info": {
   "codemirror_mode": {
    "name": "ipython",
    "version": 3
   },
   "file_extension": ".py",
   "mimetype": "text/x-python",
   "name": "python",
   "nbconvert_exporter": "python",
   "pygments_lexer": "ipython3",
   "version": "3.10.0"
  },
  "vscode": {
   "interpreter": {
    "hash": "2a0e92e69bdb2ed0d947361424263fc828fa5c075b2d465730d0fd88045b73eb"
   }
  }
 },
 "nbformat": 4,
 "nbformat_minor": 1
}
